{
 "cells": [
  {
   "cell_type": "code",
   "execution_count": 308,
   "metadata": {},
   "outputs": [],
   "source": [
    "import pandas as pd\n",
    "import numpy as np\n",
    "import matplotlib.pyplot as plt\n",
    "import matplotlib.animation as animation"
   ]
  },
  {
   "cell_type": "code",
   "execution_count": 309,
   "metadata": {},
   "outputs": [],
   "source": [
    "# === USER SETTINGS ===\n",
    "csv_filename = 'data_stock.csv'  # Replace with the actual file name\n",
    "colors = {  # Customize stock colors here\n",
    "    \"Nvidia\": \"green\",\n",
    "    \"Tesla\": \"red\",\n",
    "    \"DIA\": \"yellow\"  # Example additional stock\n",
    "}\n",
    "frame_interval = 50  # Milliseconds per frame\n",
    "fps = 10  # FPS for saved video\n"
   ]
  },
  {
   "cell_type": "code",
   "execution_count": 310,
   "metadata": {},
   "outputs": [
    {
     "name": "stdout",
     "output_type": "stream",
     "text": [
      "   Year  Nvidia   Tesla\n",
      "0  2015      500  12580\n",
      "1  2015      500  13560\n",
      "2  2015      550  15070\n",
      "3  2015      560  16720\n",
      "4  2015      520  17880\n"
     ]
    }
   ],
   "source": [
    "# === LOAD CSV DATA ===\n",
    "df = pd.read_csv(csv_filename)\n",
    "\n",
    "# Drop columns with no column name\n",
    "df = df.loc[:, ~df.columns.str.contains('^Unnamed')]\n",
    "\n",
    "# Detect stock columns automatically (assumes 'Year' is the only non-stock column)\n",
    "stock_columns = [col for col in df.columns if col.lower() != 'year']\n",
    "\n",
    "# Extract unique years and their positions\n",
    "unique_years = df[\"Year\"].unique()\n",
    "year_positions = df.index[df[\"Year\"].diff() != 0]  # Index positions where the year changes\n",
    "\n",
    "    \n",
    "# Find and drop rows with NaN values\n",
    "df = df.dropna()\n",
    "# Display the first few rows of the dataframe\n",
    "print(df.head())"
   ]
  },
  {
   "cell_type": "code",
   "execution_count": 311,
   "metadata": {},
   "outputs": [
    {
     "data": {
      "image/png": "[encoded data removed]",
      "text/plain": [
       "<Figure size 1000x500 with 1 Axes>"
      ]
     },
     "metadata": {},
     "output_type": "display_data"
    }
   ],
   "source": [
    "# === SET UP PLOT ===\n",
    "plt.style.use('dark_background')\n",
    "fig, ax = plt.subplots(figsize=(10, 5))\n",
    "\n",
    "ax.set_xlabel(\"Year\")\n",
    "ax.set_ylabel(\"Stock Price\")\n",
    "ax.set_title(\"Stock Performance Over Time\")\n",
    "\n",
    "# Remove all spines (border lines)\n",
    "for spine in ax.spines.values():\n",
    "    spine.set_visible(False)\n",
    "\n",
    "\n",
    "\n",
    "# === INITIALIZE LINES AND TEXT LABELS ===\n",
    "lines = {stock: ax.plot([], [], label=stock, color=colors.get(stock, \"white\"), lw=2)[0] for stock in stock_columns}\n",
    "text_labels = {stock: ax.text(0, 0, \"\", color=colors.get(stock, \"white\"), fontsize=12, fontweight='bold') for stock in stock_columns}\n",
    "\n",
    "# === ANIMATION FUNCTION ===\n",
    "def animate(i):\n",
    "    if i >= len(df):\n",
    "        return\n",
    "    \n",
    "    progress = i / len(df) * 100\n",
    "\n",
    "    ax.clear()\n",
    "    ax.set_xlabel(\"Year\")\n",
    "    ax.set_ylabel(\"Stock Price\")\n",
    "    ax.set_title(\"Stock Performance Over Time\")\n",
    "\n",
    "    # Dynamic X-axis scaling (show only the years)\n",
    "    ax.set_xticks(year_positions)  # Position ticks at year changes\n",
    "    ax.set_xticklabels(unique_years, rotation=45)  # Display only unique years\n",
    "\n",
    "    # Increase the x_limit as the progress increases\n",
    "    x_min = 0\n",
    "    x_max = i + len(df) * 0.2*(1-progress/100) + len(df) * 0.05\n",
    "\n",
    "    ax.set_xlim(x_min, x_max)\n",
    "\n",
    "\n",
    "    # Dynamic Y-axis scaling\n",
    "    if i == 0:\n",
    "        ymin = min(df[stock][:1].min() for stock in stock_columns) * 0.95\n",
    "        ymax = max(df[stock][:1].max() for stock in stock_columns) * 1.05\n",
    "    else:\n",
    "        ymin = min(df[stock][:i].min() for stock in stock_columns) * 0.95\n",
    "        ymax = max(df[stock][:i].max() for stock in stock_columns) * 1.05\n",
    "\n",
    "    ax.set_ylim(ymin, ymax)\n",
    "\n",
    "    for stock in stock_columns:\n",
    "        color = colors.get(stock, \"white\")\n",
    "\n",
    "        # Plot line\n",
    "        ax.plot(df.index[:i], df[stock][:i], label=stock, color=color, lw=2)\n",
    "\n",
    "        value = df[stock][i]\n",
    "\n",
    "        # Ensure text stays within bounds of the y-axis\n",
    "        buffer_y = (ymax - ymin) * 0.05  # 5% buffer to avoid text getting cut off\n",
    "        text_y_pos = max(min(df[stock][i] * 1.05, ymax - buffer_y), ymin + buffer_y)\n",
    "\n",
    "        # Ensure text stays within bounds of the x-axis\n",
    "        buffer_x = (x_max - x_min) * 0.02  # 2% buffer to avoid text going out\n",
    "        text_x_pos = max(min(df.index[i], x_max - buffer_x), x_min + buffer_x)\n",
    "\n",
    "        # Update labels dynamically\n",
    "        ax.text(text_x_pos, text_y_pos, f\"{stock}: €{value:.2f}\", color=color, fontsize=8, fontweight='bold')\n",
    "\n",
    "    # Keep only the x and y axes\n",
    "    ax.axhline(y=ymin, color=\"white\", linewidth=1)\n",
    "    ax.axvline(x=0, color=\"white\", linewidth=1)\n",
    "\n",
    "# === CREATE ANIMATION ===\n",
    "ani = animation.FuncAnimation(fig, animate, frames=len(df) + 50, interval=frame_interval)\n",
    "\n",
    "# === SAVE ANIMATION ===\n",
    "mp4_filename = 'stock_animation.mp4'\n",
    "ani.save(mp4_filename, writer='ffmpeg', fps=fps)"
   ]
  },
  {
   "cell_type": "code",
   "execution_count": 40,
   "metadata": {},
   "outputs": [],
   "source": []
  }
 ],
 "metadata": {
  "kernelspec": {
   "display_name": "base",
   "language": "python",
   "name": "python3"
  },
  "language_info": {
   "codemirror_mode": {
    "name": "ipython",
    "version": 3
   },
   "file_extension": ".py",
   "mimetype": "text/x-python",
   "name": "python",
   "nbconvert_exporter": "python",
   "pygments_lexer": "ipython3",
   "version": "3.12.2"
  }
 },
 "nbformat": 4,
 "nbformat_minor": 2
}
